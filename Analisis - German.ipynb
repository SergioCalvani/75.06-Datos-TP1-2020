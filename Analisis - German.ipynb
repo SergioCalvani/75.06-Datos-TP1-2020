{
 "cells": [
  {
   "cell_type": "code",
   "execution_count": 1,
   "metadata": {
    "collapsed": true
   },
   "outputs": [],
   "source": [
    "#Importamos las librerias\n",
    "import pandas as pd\n",
    "import numpy as np\n",
    "import matplotlib.pyplot as plt\n",
    "import seaborn as sns\n",
    "\n",
    "from nltk.corpus import stopwords\n",
    "from nltk.stem import SnowballStemmer\n",
    "import re\n",
    "from collections import Counter\n",
    "\n",
    "%matplotlib inline"
   ]
  },
  {
   "cell_type": "code",
   "execution_count": 2,
   "metadata": {
    "collapsed": false
   },
   "outputs": [],
   "source": [
    "tweets=pd.read_csv('/home/german/notebooks/TP1-Cuarentena/train.csv')"
   ]
  },
  {
   "cell_type": "code",
   "execution_count": 4,
   "metadata": {
    "collapsed": false
   },
   "outputs": [],
   "source": [
    "tweets['exclamacion'] = tweets['text'].str.count(\"!\")\n",
    "tweets['hashtag'] = tweets['text'].str.count(\"#\")\n",
    "tweets['at'] = tweets['text'].str.count(\"@\")"
   ]
  },
  {
   "cell_type": "code",
   "execution_count": 5,
   "metadata": {
    "collapsed": false
   },
   "outputs": [
    {
     "data": {
      "text/html": [
       "<div>\n",
       "<style scoped>\n",
       "    .dataframe tbody tr th:only-of-type {\n",
       "        vertical-align: middle;\n",
       "    }\n",
       "\n",
       "    .dataframe tbody tr th {\n",
       "        vertical-align: top;\n",
       "    }\n",
       "\n",
       "    .dataframe thead th {\n",
       "        text-align: right;\n",
       "    }\n",
       "</style>\n",
       "<table border=\"1\" class=\"dataframe\">\n",
       "  <thead>\n",
       "    <tr style=\"text-align: right;\">\n",
       "      <th></th>\n",
       "      <th>id</th>\n",
       "      <th>target</th>\n",
       "      <th>exclamacion</th>\n",
       "      <th>hashtag</th>\n",
       "      <th>at</th>\n",
       "    </tr>\n",
       "  </thead>\n",
       "  <tbody>\n",
       "    <tr>\n",
       "      <th>count</th>\n",
       "      <td>7613.000000</td>\n",
       "      <td>7613.00000</td>\n",
       "      <td>7613.000000</td>\n",
       "      <td>7613.000000</td>\n",
       "      <td>7613.000000</td>\n",
       "    </tr>\n",
       "    <tr>\n",
       "      <th>mean</th>\n",
       "      <td>5441.934848</td>\n",
       "      <td>0.42966</td>\n",
       "      <td>0.154079</td>\n",
       "      <td>0.446999</td>\n",
       "      <td>0.362406</td>\n",
       "    </tr>\n",
       "    <tr>\n",
       "      <th>std</th>\n",
       "      <td>3137.116090</td>\n",
       "      <td>0.49506</td>\n",
       "      <td>0.619387</td>\n",
       "      <td>1.099841</td>\n",
       "      <td>0.720097</td>\n",
       "    </tr>\n",
       "    <tr>\n",
       "      <th>min</th>\n",
       "      <td>1.000000</td>\n",
       "      <td>0.00000</td>\n",
       "      <td>0.000000</td>\n",
       "      <td>0.000000</td>\n",
       "      <td>0.000000</td>\n",
       "    </tr>\n",
       "    <tr>\n",
       "      <th>25%</th>\n",
       "      <td>2734.000000</td>\n",
       "      <td>0.00000</td>\n",
       "      <td>0.000000</td>\n",
       "      <td>0.000000</td>\n",
       "      <td>0.000000</td>\n",
       "    </tr>\n",
       "    <tr>\n",
       "      <th>50%</th>\n",
       "      <td>5408.000000</td>\n",
       "      <td>0.00000</td>\n",
       "      <td>0.000000</td>\n",
       "      <td>0.000000</td>\n",
       "      <td>0.000000</td>\n",
       "    </tr>\n",
       "    <tr>\n",
       "      <th>75%</th>\n",
       "      <td>8146.000000</td>\n",
       "      <td>1.00000</td>\n",
       "      <td>0.000000</td>\n",
       "      <td>0.000000</td>\n",
       "      <td>1.000000</td>\n",
       "    </tr>\n",
       "    <tr>\n",
       "      <th>max</th>\n",
       "      <td>10873.000000</td>\n",
       "      <td>1.00000</td>\n",
       "      <td>12.000000</td>\n",
       "      <td>13.000000</td>\n",
       "      <td>8.000000</td>\n",
       "    </tr>\n",
       "  </tbody>\n",
       "</table>\n",
       "</div>"
      ],
      "text/plain": [
       "                 id      target  exclamacion      hashtag           at\n",
       "count   7613.000000  7613.00000  7613.000000  7613.000000  7613.000000\n",
       "mean    5441.934848     0.42966     0.154079     0.446999     0.362406\n",
       "std     3137.116090     0.49506     0.619387     1.099841     0.720097\n",
       "min        1.000000     0.00000     0.000000     0.000000     0.000000\n",
       "25%     2734.000000     0.00000     0.000000     0.000000     0.000000\n",
       "50%     5408.000000     0.00000     0.000000     0.000000     0.000000\n",
       "75%     8146.000000     1.00000     0.000000     0.000000     1.000000\n",
       "max    10873.000000     1.00000    12.000000    13.000000     8.000000"
      ]
     },
     "execution_count": 5,
     "metadata": {},
     "output_type": "execute_result"
    }
   ],
   "source": [
    "tweets.describe()"
   ]
  },
  {
   "cell_type": "code",
   "execution_count": 30,
   "metadata": {
    "collapsed": true
   },
   "outputs": [],
   "source": [
    "#Por cada cantidad diferente de signos de exclamacion, voy a sumar los veraces y los totales\n",
    "exclamacionGroup = tweets.groupby(['exclamacion']).agg({'target':['sum','count']}).reset_index()\n",
    "exclamacionGroup.columns = ['exclamacion','cantidad de veraces','total']"
   ]
  },
  {
   "cell_type": "code",
   "execution_count": 31,
   "metadata": {
    "collapsed": true
   },
   "outputs": [],
   "source": [
    "exclamacionGroup['porcentaje de tweets veraces']=\\\n",
    "                    exclamacionGroup['cantidad de veraces']/exclamacionGroup['total']*100"
   ]
  },
  {
   "cell_type": "code",
   "execution_count": 37,
   "metadata": {
    "collapsed": false
   },
   "outputs": [],
   "source": [
    "#Los tweets que tienen mas de 4 signos de exclamacion son muy pocos, a esos no los tengo\n",
    "#en cuenta para este analisis\n",
    "exclamacionGroup = exclamacionGroup[exclamacionGroup[\"total\"]>10]"
   ]
  },
  {
   "cell_type": "code",
   "execution_count": 39,
   "metadata": {
    "collapsed": false
   },
   "outputs": [
    {
     "data": {
      "image/png": "[encoded data removed]",
      "text/plain": [
       "<Figure size 792x396 with 1 Axes>"
      ]
     },
     "metadata": {
      "needs_background": "light"
     },
     "output_type": "display_data"
    }
   ],
   "source": [
    "exclamacionGroup.plot(kind='bar', x='exclamacion', y='porcentaje de tweets veraces',\\\n",
    "                 width=0.7, figsize=(11,5.5), color='green',\\\n",
    "                 edgecolor=\"lightgreen\", linewidth=4)\n",
    "g=plt.gca()\n",
    "g.set_title(\"Relación entre la cantidad de signos de exclamacion y su veracidad\",\\\n",
    "            fontsize=20);\n",
    "g.set_xlabel(\"Cantidad de signos de exclamación\", fontsize=18);\n",
    "g.set_ylabel(\"Porcentaje de tweets veraces\", fontsize=18);"
   ]
  },
  {
   "cell_type": "markdown",
   "metadata": {},
   "source": [
    "Los tweets que tienen signos de interrogacion suelen ser mas fake que los que no tienen. Y pareciera que mientras mas signos de exclamacion tiene, es mas probable que sean fake."
   ]
  },
  {
   "cell_type": "markdown",
   "metadata": {},
   "source": [
    "# Idem, pero ahora con hashtags"
   ]
  },
  {
   "cell_type": "code",
   "execution_count": 40,
   "metadata": {
    "collapsed": true
   },
   "outputs": [],
   "source": [
    "hashtagGroup = tweets.groupby(['hashtag']).agg({'target':['sum','count']}).reset_index()\n",
    "hashtagGroup.columns = ['hashtag','cantidad de veraces','total']"
   ]
  },
  {
   "cell_type": "code",
   "execution_count": 41,
   "metadata": {
    "collapsed": true
   },
   "outputs": [],
   "source": [
    "hashtagGroup['porcentaje de tweets veraces']=\\\n",
    "                    hashtagGroup['cantidad de veraces']/hashtagGroup['total']*100"
   ]
  },
  {
   "cell_type": "code",
   "execution_count": 43,
   "metadata": {
    "collapsed": true
   },
   "outputs": [],
   "source": [
    "#Los tweets que tienen mas de 5 hashtag son muy pocos y no sirven para establecer un patron, a esos no los tengo\n",
    "#en cuenta para este analisis\n",
    "hashtagGroup = hashtagGroup[hashtagGroup[\"total\"]>26]"
   ]
  },
  {
   "cell_type": "code",
   "execution_count": 49,
   "metadata": {
    "collapsed": false
   },
   "outputs": [
    {
     "data": {
      "image/png": "[encoded data removed]",
      "text/plain": [
       "<Figure size 792x396 with 1 Axes>"
      ]
     },
     "metadata": {
      "needs_background": "light"
     },
     "output_type": "display_data"
    }
   ],
   "source": [
    "hashtagGroup.plot(kind='bar', x='hashtag', y='porcentaje de tweets veraces',\\\n",
    "                 width=0.7, figsize=(11,5.5), color='blue',\\\n",
    "                 edgecolor=\"skyblue\", linewidth=4)\n",
    "g=plt.gca()\n",
    "g.set_title(\"Relación entre la cantidad de hashtag y su veracidad\",\\\n",
    "            fontsize=20);\n",
    "g.set_xlabel(\"Cantidad de hashtags\", fontsize=18);\n",
    "g.set_ylabel(\"Porcentaje de tweets veraces\", fontsize=18);"
   ]
  },
  {
   "cell_type": "markdown",
   "metadata": {},
   "source": [
    "No parece haber un patrón claro sobre los tweets y su cantidad de hashtag."
   ]
  },
  {
   "cell_type": "markdown",
   "metadata": {
    "collapsed": true
   },
   "source": [
    "# Idem, pero ahora con @"
   ]
  },
  {
   "cell_type": "code",
   "execution_count": 6,
   "metadata": {
    "collapsed": true
   },
   "outputs": [],
   "source": [
    "atGroup = tweets.groupby(['at']).agg({'target':['sum','count']}).reset_index()\n",
    "atGroup.columns = ['at','cantidad de veraces','total']"
   ]
  },
  {
   "cell_type": "code",
   "execution_count": 7,
   "metadata": {
    "collapsed": true
   },
   "outputs": [],
   "source": [
    "atGroup['porcentaje de tweets veraces']=\\\n",
    "                    atGroup['cantidad de veraces']/atGroup['total']*100"
   ]
  },
  {
   "cell_type": "code",
   "execution_count": 8,
   "metadata": {
    "collapsed": false
   },
   "outputs": [
    {
     "data": {
      "image/png": "[encoded data removed]",
      "text/plain": [
       "<Figure size 792x396 with 1 Axes>"
      ]
     },
     "metadata": {
      "needs_background": "light"
     },
     "output_type": "display_data"
    }
   ],
   "source": [
    "atGroup.plot(kind='bar', x='at', y='porcentaje de tweets veraces',\\\n",
    "                 width=0.7, figsize=(11,5.5), color='red',\\\n",
    "                 edgecolor=\"pink\", linewidth=4)\n",
    "g=plt.gca()\n",
    "g.set_title(\"Relación entre la cantidad de @ y su veracidad\",\\\n",
    "            fontsize=20);\n",
    "g.set_xlabel(\"Cantidad de @\", fontsize=18);\n",
    "g.set_ylabel(\"Porcentaje de tweets veraces\", fontsize=18);"
   ]
  },
  {
   "cell_type": "markdown",
   "metadata": {},
   "source": [
    "No me arriesgaria a decir que existe un patron entre los tweets que citan a 0, 1, 2 o 3 usuarios, pero parece que desde 4 en adelante, esos tweets suelen ser fake."
   ]
  },
  {
   "cell_type": "markdown",
   "metadata": {
    "collapsed": true
   },
   "source": [
    "# Analizo tweets en mayuscula"
   ]
  },
  {
   "cell_type": "code",
   "execution_count": 3,
   "metadata": {
    "collapsed": true
   },
   "outputs": [],
   "source": [
    "#Por cada tweet, cuento la cantidad de mayusculas, la cantidad total de caracteres y calculo el porcentaje de\n",
    "#mayusculas\n",
    "tweets['mayusculas'] = tweets['text'].str.count(r'[A-Z]')\n",
    "tweets['longitud'] = tweets['text'].str.len()\n",
    "tweets['porcentaje de mayusculas'] = tweets['mayusculas']/tweets['longitud']*100"
   ]
  },
  {
   "cell_type": "code",
   "execution_count": 4,
   "metadata": {
    "collapsed": true
   },
   "outputs": [],
   "source": [
    "#Agrupo por rango de porcentajes\n",
    "bins = [0,10,20,30,40,50,60,70,80,90,100]\n",
    "names = [\"[0%-10%]\",\"(10%-20%]\",\"(20%-30%]\",\"(30%-40%]\",\"(40%-50%]\",\"(50%-60%]\",\"(60%-70%]\",\"(70%-80%]\",\\\n",
    "         \"(80%-90%]\",\"(90%-100%]\"]\n",
    "tweets[\"porcentaje\"] = pd.cut(tweets[\"porcentaje de mayusculas\"],bins,labels=names)"
   ]
  },
  {
   "cell_type": "code",
   "execution_count": 5,
   "metadata": {
    "collapsed": true
   },
   "outputs": [],
   "source": [
    "#Voy a sumar por rango de porcentaje para tener la cantidad de tweets veraces y totales\n",
    "tweetsGroup = tweets.groupby(['porcentaje']).agg({'target':['sum','count']}).reset_index()\n",
    "tweetsGroup.columns = ['porcentaje','cantidad de veraces','total']"
   ]
  },
  {
   "cell_type": "code",
   "execution_count": 6,
   "metadata": {
    "collapsed": true
   },
   "outputs": [],
   "source": [
    "tweetsGroup['porcentaje de tweets veraces']=tweetsGroup['cantidad de veraces']/tweetsGroup['total']*100"
   ]
  },
  {
   "cell_type": "code",
   "execution_count": 7,
   "metadata": {
    "collapsed": false
   },
   "outputs": [
    {
     "data": {
      "text/html": [
       "<div>\n",
       "<style scoped>\n",
       "    .dataframe tbody tr th:only-of-type {\n",
       "        vertical-align: middle;\n",
       "    }\n",
       "\n",
       "    .dataframe tbody tr th {\n",
       "        vertical-align: top;\n",
       "    }\n",
       "\n",
       "    .dataframe thead th {\n",
       "        text-align: right;\n",
       "    }\n",
       "</style>\n",
       "<table border=\"1\" class=\"dataframe\">\n",
       "  <thead>\n",
       "    <tr style=\"text-align: right;\">\n",
       "      <th></th>\n",
       "      <th>porcentaje</th>\n",
       "      <th>cantidad de veraces</th>\n",
       "      <th>total</th>\n",
       "      <th>porcentaje de tweets veraces</th>\n",
       "    </tr>\n",
       "  </thead>\n",
       "  <tbody>\n",
       "    <tr>\n",
       "      <th>0</th>\n",
       "      <td>[0%-10%]</td>\n",
       "      <td>1948</td>\n",
       "      <td>4618</td>\n",
       "      <td>42.182763</td>\n",
       "    </tr>\n",
       "    <tr>\n",
       "      <th>1</th>\n",
       "      <td>(10%-20%]</td>\n",
       "      <td>1068</td>\n",
       "      <td>2173</td>\n",
       "      <td>49.148642</td>\n",
       "    </tr>\n",
       "    <tr>\n",
       "      <th>2</th>\n",
       "      <td>(20%-30%]</td>\n",
       "      <td>103</td>\n",
       "      <td>258</td>\n",
       "      <td>39.922481</td>\n",
       "    </tr>\n",
       "    <tr>\n",
       "      <th>3</th>\n",
       "      <td>(30%-40%]</td>\n",
       "      <td>34</td>\n",
       "      <td>81</td>\n",
       "      <td>41.975309</td>\n",
       "    </tr>\n",
       "    <tr>\n",
       "      <th>4</th>\n",
       "      <td>(40%-50%]</td>\n",
       "      <td>18</td>\n",
       "      <td>64</td>\n",
       "      <td>28.125000</td>\n",
       "    </tr>\n",
       "    <tr>\n",
       "      <th>5</th>\n",
       "      <td>(50%-60%]</td>\n",
       "      <td>17</td>\n",
       "      <td>46</td>\n",
       "      <td>36.956522</td>\n",
       "    </tr>\n",
       "    <tr>\n",
       "      <th>6</th>\n",
       "      <td>(60%-70%]</td>\n",
       "      <td>15</td>\n",
       "      <td>41</td>\n",
       "      <td>36.585366</td>\n",
       "    </tr>\n",
       "    <tr>\n",
       "      <th>7</th>\n",
       "      <td>(70%-80%]</td>\n",
       "      <td>5</td>\n",
       "      <td>21</td>\n",
       "      <td>23.809524</td>\n",
       "    </tr>\n",
       "    <tr>\n",
       "      <th>8</th>\n",
       "      <td>(80%-90%]</td>\n",
       "      <td>5</td>\n",
       "      <td>30</td>\n",
       "      <td>16.666667</td>\n",
       "    </tr>\n",
       "    <tr>\n",
       "      <th>9</th>\n",
       "      <td>(90%-100%]</td>\n",
       "      <td>0</td>\n",
       "      <td>1</td>\n",
       "      <td>0.000000</td>\n",
       "    </tr>\n",
       "  </tbody>\n",
       "</table>\n",
       "</div>"
      ],
      "text/plain": [
       "   porcentaje  cantidad de veraces  total  porcentaje de tweets veraces\n",
       "0    [0%-10%]                 1948   4618                     42.182763\n",
       "1   (10%-20%]                 1068   2173                     49.148642\n",
       "2   (20%-30%]                  103    258                     39.922481\n",
       "3   (30%-40%]                   34     81                     41.975309\n",
       "4   (40%-50%]                   18     64                     28.125000\n",
       "5   (50%-60%]                   17     46                     36.956522\n",
       "6   (60%-70%]                   15     41                     36.585366\n",
       "7   (70%-80%]                    5     21                     23.809524\n",
       "8   (80%-90%]                    5     30                     16.666667\n",
       "9  (90%-100%]                    0      1                      0.000000"
      ]
     },
     "execution_count": 7,
     "metadata": {},
     "output_type": "execute_result"
    }
   ],
   "source": [
    "tweetsGroup"
   ]
  },
  {
   "cell_type": "code",
   "execution_count": 8,
   "metadata": {
    "collapsed": false
   },
   "outputs": [
    {
     "data": {
      "image/png": "[encoded data removed]",
      "text/plain": [
       "<Figure size 792x396 with 1 Axes>"
      ]
     },
     "metadata": {
      "needs_background": "light"
     },
     "output_type": "display_data"
    }
   ],
   "source": [
    "tweetsGroup.plot(kind='bar', x='porcentaje', y='porcentaje de tweets veraces',width=0.7, figsize=(11,5.5),\\\n",
    "                 color='yellow',edgecolor='black', linewidth=4, rot=50)\n",
    "g=plt.gca()\n",
    "g.set_title(\"Relación entre el porcentaje de mayusculas en los tweets y su veracidad\",\\\n",
    "fontsize=21);\n",
    "g.set_xlabel(\"Porcentaje de mayusculas\", fontsize=18);\n",
    "g.set_ylabel(\"Porcentaje de tweets veraces\", fontsize=18);"
   ]
  },
  {
   "cell_type": "markdown",
   "metadata": {},
   "source": [
    "Los tweets que tienen mas de 40% de mayusculas parecen ser mas fake a medida que mas mayusculas tienen"
   ]
  },
  {
   "cell_type": "markdown",
   "metadata": {
    "collapsed": true
   },
   "source": [
    "# Analisis de palabras"
   ]
  },
  {
   "cell_type": "code",
   "execution_count": 4,
   "metadata": {
    "collapsed": false
   },
   "outputs": [],
   "source": [
    "english_stopwords = stopwords.words('english')\n",
    "stemmer = SnowballStemmer('english')\n",
    "\n",
    "aQuitar = ['http','https','&amp']\n",
    "english_stopwords.extend(aQuitar)"
   ]
  },
  {
   "cell_type": "code",
   "execution_count": 5,
   "metadata": {
    "collapsed": true
   },
   "outputs": [],
   "source": [
    "def stem_tokens(tokens, stemmer):\n",
    "    stemmed = []\n",
    "    for item in tokens:\n",
    "        stemmed.append(stemmer.stem(item))\n",
    "    return stemmed"
   ]
  },
  {
   "cell_type": "code",
   "execution_count": 6,
   "metadata": {
    "collapsed": true
   },
   "outputs": [],
   "source": [
    "texto = tweets[\"text\"]\n",
    "\n",
    "textoVeridico = tweets[(tweets['target']==1)]\n",
    "textoVeridico = textoVeridico[\"text\"]\n",
    "\n",
    "textoFalso = tweets[(tweets['target']==0)]\n",
    "textoFalso = textoFalso[\"text\"]"
   ]
  },
  {
   "cell_type": "code",
   "execution_count": 7,
   "metadata": {
    "collapsed": true
   },
   "outputs": [],
   "source": [
    "palabras=[]\n",
    "for row in texto:\n",
    "    row =row.lower()\n",
    "    row=filter(None, re.split(\"[, \\-!?:._¡¿'`<>;()+]\", row))\n",
    "    for palabra in row:\n",
    "        if len(palabra)<4: #saco conectores\n",
    "            continue\n",
    "        if palabra not in english_stopwords:\n",
    "            palabras.append(palabra)"
   ]
  },
  {
   "cell_type": "code",
   "execution_count": 8,
   "metadata": {
    "collapsed": true
   },
   "outputs": [],
   "source": [
    "palabrasVeridicas=[]\n",
    "for row in textoVeridico:\n",
    "    row =row.lower()\n",
    "    row=filter(None, re.split(\"[, \\-!?:._¡¿'`<>;()+]\", row))\n",
    "    for palabra in row:\n",
    "        if len(palabra)<4: #saco conectores\n",
    "            continue\n",
    "        if palabra not in english_stopwords:\n",
    "            palabrasVeridicas.append(palabra)"
   ]
  },
  {
   "cell_type": "code",
   "execution_count": 9,
   "metadata": {
    "collapsed": true
   },
   "outputs": [],
   "source": [
    "palabrasFalsas=[]\n",
    "for row in textoFalso:\n",
    "    row =row.lower()\n",
    "    row=filter(None, re.split(\"[, \\-!?:._¡¿'`<>;()+]\", row))\n",
    "    for palabra in row:\n",
    "        if len(palabra)<4: #saco conectores\n",
    "            continue\n",
    "        if palabra not in english_stopwords:\n",
    "            palabrasFalsas.append(palabra)"
   ]
  },
  {
   "cell_type": "code",
   "execution_count": 10,
   "metadata": {
    "collapsed": false
   },
   "outputs": [
    {
     "data": {
      "text/plain": [
       "[('like', 409),\n",
       " ('fire', 353),\n",
       " ('bomb', 232),\n",
       " ('peopl', 198),\n",
       " ('burn', 178),\n",
       " ('year', 175),\n",
       " ('kill', 174),\n",
       " ('time', 164),\n",
       " ('video', 163),\n",
       " ('crash', 160),\n",
       " ('emerg', 157),\n",
       " ('flood', 156),\n",
       " ('bodi', 153),\n",
       " ('attack', 152),\n",
       " ('build', 148),\n",
       " ('disast', 148),\n",
       " ('look', 143),\n",
       " ('home', 141),\n",
       " ('polic', 140),\n",
       " ('fatal', 140),\n",
       " ('love', 136),\n",
       " ('would', 136),\n",
       " ('famili', 130),\n",
       " ('train', 129),\n",
       " ('evacu', 128),\n",
       " ('make', 128),\n",
       " ('still', 127),\n",
       " ('come', 125),\n",
       " ('storm', 124),\n",
       " ('know', 122),\n",
       " ('back', 122),\n",
       " ('suicid', 120),\n",
       " ('news', 118),\n",
       " ('want', 117),\n",
       " ('california', 116),\n",
       " ('live', 116),\n",
       " ('watch', 115),\n",
       " ('collaps', 114),\n",
       " ('derail', 114),\n",
       " ('death', 110),\n",
       " ('take', 108),\n",
       " ('first', 108),\n",
       " ('caus', 106),\n",
       " ('think', 105),\n",
       " ('world', 105),\n",
       " ('go', 104),\n",
       " ('scream', 104),\n",
       " ('dead', 103),\n",
       " ('need', 101),\n",
       " ('drown', 101),\n",
       " ('work', 100),\n",
       " ('today', 100),\n",
       " ('wreck', 98),\n",
       " ('deton', 96),\n",
       " ('destroy', 95),\n",
       " ('accid', 94),\n",
       " ('nuclear', 94),\n",
       " ('feel', 93),\n",
       " ('hijack', 93),\n",
       " ('plan', 92),\n",
       " ('full', 92),\n",
       " ('fuck', 91),\n",
       " ('murder', 90),\n",
       " ('help', 88),\n",
       " ('good', 88),\n",
       " ('weapon', 88),\n",
       " ('obliter', 88),\n",
       " ('last', 87),\n",
       " ('life', 87),\n",
       " ('fear', 87),\n",
       " ('injuri', 85),\n",
       " ('even', 85),\n",
       " ('surviv', 85),\n",
       " ('wound', 85),\n",
       " ('report', 84),\n",
       " ('mani', 84),\n",
       " ('could', 83),\n",
       " ('@youtub', 83),\n",
       " ('get', 82),\n",
       " ('servic', 82),\n",
       " ('devast', 80),\n",
       " ('near', 79),\n",
       " ('rescu', 78),\n",
       " ('explod', 78),\n",
       " ('bag', 77),\n",
       " ('call', 76),\n",
       " ('save', 76),\n",
       " ('right', 75),\n",
       " ('collid', 75),\n",
       " ('wave', 74),\n",
       " ('mass', 74),\n",
       " ('riot', 74),\n",
       " ('hazard', 74),\n",
       " ('thing', 73),\n",
       " ('damag', 72),\n",
       " ('pleas', 72),\n",
       " ('armi', 72),\n",
       " ('quarantin', 72),\n",
       " ('realli', 71),\n",
       " ('hous', 71)]"
      ]
     },
     "execution_count": 10,
     "metadata": {},
     "output_type": "execute_result"
    }
   ],
   "source": [
    "stems = stem_tokens(palabras, stemmer)\n",
    "contador = Counter(stems)\n",
    "palabrasComunes = contador.most_common(100)\n",
    "palabrasComunes"
   ]
  },
  {
   "cell_type": "code",
   "execution_count": 11,
   "metadata": {
    "collapsed": false
   },
   "outputs": [
    {
     "data": {
      "text/plain": [
       "[('fire', 265),\n",
       " ('bomb', 181),\n",
       " ('kill', 157),\n",
       " ('flood', 112),\n",
       " ('suicid', 112),\n",
       " ('california', 111),\n",
       " ('crash', 110),\n",
       " ('year', 110),\n",
       " ('disast', 110),\n",
       " ('train', 109),\n",
       " ('polic', 107),\n",
       " ('peopl', 105),\n",
       " ('famili', 105),\n",
       " ('home', 103),\n",
       " ('attack', 103),\n",
       " ('like', 103),\n",
       " ('evacu', 99),\n",
       " ('build', 94),\n",
       " ('fatal', 91),\n",
       " ('storm', 91),\n",
       " ('derail', 87),\n",
       " ('burn', 86),\n",
       " ('news', 82),\n",
       " ('emerg', 75),\n",
       " ('live', 72),\n",
       " ('report', 70),\n",
       " ('accid', 69),\n",
       " ('video', 69),\n",
       " ('collaps', 69),\n",
       " ('dead', 68),\n",
       " ('hiroshima', 68),\n",
       " ('wildfir', 66),\n",
       " ('murder', 66),\n",
       " ('caus', 65),\n",
       " ('nuclear', 65),\n",
       " ('mh370', 65),\n",
       " ('near', 64),\n",
       " ('northern', 64),\n",
       " ('death', 63),\n",
       " ('legionnair', 62),\n",
       " ('bomber', 61),\n",
       " ('time', 60),\n",
       " ('warn', 60),\n",
       " ('watch', 60),\n",
       " ('confirm', 60),\n",
       " ('devast', 60),\n",
       " ('atom', 57),\n",
       " ('still', 56),\n",
       " ('sever', 55),\n",
       " ('typhoon', 55),\n",
       " ('obama', 54),\n",
       " ('today', 53),\n",
       " ('look', 53),\n",
       " ('investig', 53),\n",
       " ('first', 50),\n",
       " ('debri', 50),\n",
       " ('#new', 50),\n",
       " ('water', 50),\n",
       " ('mass', 49),\n",
       " ('deton', 49),\n",
       " ('declar', 49),\n",
       " ('hijack', 49),\n",
       " ('forest', 48),\n",
       " ('latest', 48),\n",
       " ('damag', 47),\n",
       " ('suspect', 47),\n",
       " ('wound', 47),\n",
       " ('malaysia', 47),\n",
       " ('wave', 46),\n",
       " ('citi', 46),\n",
       " ('migrant', 46),\n",
       " ('area', 45),\n",
       " ('found', 45),\n",
       " ('fear', 45),\n",
       " ('japan', 45),\n",
       " ('issu', 44),\n",
       " ('miss', 44),\n",
       " ('spill', 44),\n",
       " ('thunderstorm', 44),\n",
       " ('hous', 43),\n",
       " ('call', 43),\n",
       " ('injur', 43),\n",
       " ('armi', 42),\n",
       " ('charg', 42),\n",
       " ('casualti', 42),\n",
       " ('offic', 41),\n",
       " ('state', 41),\n",
       " ('servic', 41),\n",
       " ('outbreak', 41),\n",
       " ('save', 41),\n",
       " ('weapon', 40),\n",
       " ('hostag', 40),\n",
       " ('land', 40),\n",
       " ('plan', 40),\n",
       " ('rescu', 40),\n",
       " ('wreckag', 40),\n",
       " ('take', 39),\n",
       " ('riot', 39),\n",
       " ('could', 38),\n",
       " ('come', 37)]"
      ]
     },
     "execution_count": 11,
     "metadata": {},
     "output_type": "execute_result"
    }
   ],
   "source": [
    "stems = stem_tokens(palabrasVeridicas, stemmer)\n",
    "contador = Counter(stems)\n",
    "palabrasComunesVeridicas = contador.most_common(100)\n",
    "palabrasComunesVeridicas"
   ]
  },
  {
   "cell_type": "code",
   "execution_count": 12,
   "metadata": {
    "collapsed": false
   },
   "outputs": [
    {
     "data": {
      "text/plain": [
       "[('like', 306),\n",
       " ('love', 119),\n",
       " ('bodi', 117),\n",
       " ('time', 104),\n",
       " ('would', 100),\n",
       " ('want', 98),\n",
       " ('make', 96),\n",
       " ('video', 94),\n",
       " ('peopl', 93),\n",
       " ('burn', 92),\n",
       " ('know', 91),\n",
       " ('look', 90),\n",
       " ('scream', 89),\n",
       " ('come', 88),\n",
       " ('fire', 88),\n",
       " ('back', 87),\n",
       " ('full', 83),\n",
       " ('think', 82),\n",
       " ('emerg', 82),\n",
       " ('wreck', 81),\n",
       " ('fuck', 77),\n",
       " ('feel', 77),\n",
       " ('obliter', 77),\n",
       " ('go', 76),\n",
       " ('work', 72),\n",
       " ('need', 72),\n",
       " ('drown', 72),\n",
       " ('still', 71),\n",
       " ('bag', 71),\n",
       " ('take', 69),\n",
       " ('world', 69),\n",
       " ('good', 67),\n",
       " ('year', 65),\n",
       " ('@youtub', 65),\n",
       " ('explod', 61),\n",
       " ('life', 60),\n",
       " ('get', 60),\n",
       " ('crush', 60),\n",
       " ('last', 58),\n",
       " ('first', 58),\n",
       " ('destroy', 58),\n",
       " ('even', 58),\n",
       " ('help', 56),\n",
       " ('surviv', 56),\n",
       " ('realli', 55),\n",
       " ('watch', 55),\n",
       " ('build', 54),\n",
       " ('thing', 54),\n",
       " ('injuri', 53),\n",
       " ('plan', 52),\n",
       " ('reddit', 52),\n",
       " ('quarantin', 52),\n",
       " ('much', 51),\n",
       " ('mani', 51),\n",
       " ('right', 51),\n",
       " ('play', 51),\n",
       " ('bomb', 51),\n",
       " ('read', 50),\n",
       " ('crash', 50),\n",
       " ('thank', 49),\n",
       " ('attack', 49),\n",
       " ('cross', 49),\n",
       " ('delug', 49),\n",
       " ('fatal', 49),\n",
       " ('weapon', 48),\n",
       " ('demolish', 48),\n",
       " ('electrocut', 48),\n",
       " ('today', 47),\n",
       " ('great', 47),\n",
       " ('death', 47),\n",
       " ('deton', 47),\n",
       " ('blaze', 46),\n",
       " ('content', 46),\n",
       " ('collid', 46),\n",
       " ('desol', 46),\n",
       " ('could', 45),\n",
       " ('never', 45),\n",
       " ('pleas', 45),\n",
       " ('collaps', 45),\n",
       " ('live', 44),\n",
       " ('start', 44),\n",
       " ('flood', 44),\n",
       " ('hijack', 44),\n",
       " ('siren', 43),\n",
       " ('fall', 43),\n",
       " ('everi', 42),\n",
       " ('everyon', 42),\n",
       " ('hazard', 42),\n",
       " ('fear', 42),\n",
       " ('caus', 41),\n",
       " ('ever', 41),\n",
       " ('servic', 41),\n",
       " ('show', 41),\n",
       " ('stop', 41),\n",
       " ('ruin', 41),\n",
       " ('night', 40),\n",
       " ('game', 40),\n",
       " ('hope', 40),\n",
       " ('smoke', 40),\n",
       " ('check', 39)]"
      ]
     },
     "execution_count": 12,
     "metadata": {},
     "output_type": "execute_result"
    }
   ],
   "source": [
    "stems = stem_tokens(palabrasFalsas, stemmer)\n",
    "contador = Counter(stems)\n",
    "palabrasComunesFalsas = contador.most_common(100)\n",
    "palabrasComunesFalsas"
   ]
  },
  {
   "cell_type": "code",
   "execution_count": null,
   "metadata": {
    "collapsed": true
   },
   "outputs": [],
   "source": []
  }
 ],
 "metadata": {
  "kernelspec": {
   "display_name": "Python 3",
   "language": "python",
   "name": "python3"
  },
  "language_info": {
   "codemirror_mode": {
    "name": "ipython",
    "version": 3
   },
   "file_extension": ".py",
   "mimetype": "text/x-python",
   "name": "python",
   "nbconvert_exporter": "python",
   "pygments_lexer": "ipython3",
   "version": "3.7.5"
  }
 },
 "nbformat": 4,
 "nbformat_minor": 1
}
