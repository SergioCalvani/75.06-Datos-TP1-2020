{
 "cells": [
  {
   "cell_type": "code",
   "execution_count": 1,
   "metadata": {
    "collapsed": true
   },
   "outputs": [],
   "source": [
    "#Importamos las librerias\n",
    "import pandas as pd\n",
    "import numpy as np\n",
    "import matplotlib.pyplot as plt\n",
    "import seaborn as sns\n",
    "\n",
    "%matplotlib inline"
   ]
  },
  {
   "cell_type": "code",
   "execution_count": 27,
   "metadata": {
    "collapsed": true
   },
   "outputs": [],
   "source": [
    "tweets=pd.read_csv('train.csv')"
   ]
  },
  {
   "cell_type": "code",
   "execution_count": 28,
   "metadata": {
    "collapsed": false
   },
   "outputs": [],
   "source": [
    "tweets['exclamacion'] = tweets['text'].str.count(\"!\")\n",
    "tweets['hashtag'] = tweets['text'].str.count(\"#\")"
   ]
  },
  {
   "cell_type": "code",
   "execution_count": 29,
   "metadata": {
    "collapsed": false
   },
   "outputs": [
    {
     "data": {
      "text/html": [
       "<div>\n",
       "<style scoped>\n",
       "    .dataframe tbody tr th:only-of-type {\n",
       "        vertical-align: middle;\n",
       "    }\n",
       "\n",
       "    .dataframe tbody tr th {\n",
       "        vertical-align: top;\n",
       "    }\n",
       "\n",
       "    .dataframe thead th {\n",
       "        text-align: right;\n",
       "    }\n",
       "</style>\n",
       "<table border=\"1\" class=\"dataframe\">\n",
       "  <thead>\n",
       "    <tr style=\"text-align: right;\">\n",
       "      <th></th>\n",
       "      <th>id</th>\n",
       "      <th>target</th>\n",
       "      <th>exclamacion</th>\n",
       "      <th>hashtag</th>\n",
       "    </tr>\n",
       "  </thead>\n",
       "  <tbody>\n",
       "    <tr>\n",
       "      <th>count</th>\n",
       "      <td>7613.000000</td>\n",
       "      <td>7613.00000</td>\n",
       "      <td>7613.000000</td>\n",
       "      <td>7613.000000</td>\n",
       "    </tr>\n",
       "    <tr>\n",
       "      <th>mean</th>\n",
       "      <td>5441.934848</td>\n",
       "      <td>0.42966</td>\n",
       "      <td>0.154079</td>\n",
       "      <td>0.446999</td>\n",
       "    </tr>\n",
       "    <tr>\n",
       "      <th>std</th>\n",
       "      <td>3137.116090</td>\n",
       "      <td>0.49506</td>\n",
       "      <td>0.619387</td>\n",
       "      <td>1.099841</td>\n",
       "    </tr>\n",
       "    <tr>\n",
       "      <th>min</th>\n",
       "      <td>1.000000</td>\n",
       "      <td>0.00000</td>\n",
       "      <td>0.000000</td>\n",
       "      <td>0.000000</td>\n",
       "    </tr>\n",
       "    <tr>\n",
       "      <th>25%</th>\n",
       "      <td>2734.000000</td>\n",
       "      <td>0.00000</td>\n",
       "      <td>0.000000</td>\n",
       "      <td>0.000000</td>\n",
       "    </tr>\n",
       "    <tr>\n",
       "      <th>50%</th>\n",
       "      <td>5408.000000</td>\n",
       "      <td>0.00000</td>\n",
       "      <td>0.000000</td>\n",
       "      <td>0.000000</td>\n",
       "    </tr>\n",
       "    <tr>\n",
       "      <th>75%</th>\n",
       "      <td>8146.000000</td>\n",
       "      <td>1.00000</td>\n",
       "      <td>0.000000</td>\n",
       "      <td>0.000000</td>\n",
       "    </tr>\n",
       "    <tr>\n",
       "      <th>max</th>\n",
       "      <td>10873.000000</td>\n",
       "      <td>1.00000</td>\n",
       "      <td>12.000000</td>\n",
       "      <td>13.000000</td>\n",
       "    </tr>\n",
       "  </tbody>\n",
       "</table>\n",
       "</div>"
      ],
      "text/plain": [
       "                 id      target  exclamacion      hashtag\n",
       "count   7613.000000  7613.00000  7613.000000  7613.000000\n",
       "mean    5441.934848     0.42966     0.154079     0.446999\n",
       "std     3137.116090     0.49506     0.619387     1.099841\n",
       "min        1.000000     0.00000     0.000000     0.000000\n",
       "25%     2734.000000     0.00000     0.000000     0.000000\n",
       "50%     5408.000000     0.00000     0.000000     0.000000\n",
       "75%     8146.000000     1.00000     0.000000     0.000000\n",
       "max    10873.000000     1.00000    12.000000    13.000000"
      ]
     },
     "execution_count": 29,
     "metadata": {},
     "output_type": "execute_result"
    }
   ],
   "source": [
    "tweets.describe()"
   ]
  },
  {
   "cell_type": "code",
   "execution_count": 30,
   "metadata": {
    "collapsed": true
   },
   "outputs": [],
   "source": [
    "#Por cada cantidad diferente de signos de exclamacion, voy a sumar los veraces y los totales\n",
    "exclamacionGroup = tweets.groupby(['exclamacion']).agg({'target':['sum','count']}).reset_index()\n",
    "exclamacionGroup.columns = ['exclamacion','cantidad de veraces','total']"
   ]
  },
  {
   "cell_type": "code",
   "execution_count": 31,
   "metadata": {
    "collapsed": true
   },
   "outputs": [],
   "source": [
    "exclamacionGroup['porcentaje de tweets veraces']=\\\n",
    "                    exclamacionGroup['cantidad de veraces']/exclamacionGroup['total']*100"
   ]
  },
  {
   "cell_type": "code",
   "execution_count": 37,
   "metadata": {
    "collapsed": false
   },
   "outputs": [],
   "source": [
    "#Los tweets que tienen mas de 4 signos de exclamacion son muy pocos, a esos no los tengo\n",
    "#en cuenta para este analisis\n",
    "exclamacionGroup = exclamacionGroup[exclamacionGroup[\"total\"]>10]"
   ]
  },
  {
   "cell_type": "code",
   "execution_count": 39,
   "metadata": {
    "collapsed": false
   },
   "outputs": [
    {
     "data": {
      "image/png": "[encoded data removed]",
      "text/plain": [
       "<Figure size 792x396 with 1 Axes>"
      ]
     },
     "metadata": {
      "needs_background": "light"
     },
     "output_type": "display_data"
    }
   ],
   "source": [
    "exclamacionGroup.plot(kind='bar', x='exclamacion', y='porcentaje de tweets veraces',\\\n",
    "                 width=0.7, figsize=(11,5.5), color='green',\\\n",
    "                 edgecolor=\"lightgreen\", linewidth=4)\n",
    "g=plt.gca()\n",
    "g.set_title(\"Relación entre la cantidad de signos de exclamacion y su veracidad\",\\\n",
    "            fontsize=20);\n",
    "g.set_xlabel(\"Cantidad de signos de exclamación\", fontsize=18);\n",
    "g.set_ylabel(\"Porcentaje de tweets veraces\", fontsize=18);"
   ]
  },
  {
   "cell_type": "markdown",
   "metadata": {},
   "source": [
    "Los tweets que tienen signos de interrogacion suelen ser mas fake que los que no tienen. Y pareciera que mientras mas signos de exclamacion tiene, es mas probable que sean fake."
   ]
  },
  {
   "cell_type": "markdown",
   "metadata": {},
   "source": [
    "# Idem, pero ahora con hashtags"
   ]
  },
  {
   "cell_type": "code",
   "execution_count": 40,
   "metadata": {
    "collapsed": true
   },
   "outputs": [],
   "source": [
    "hashtagGroup = tweets.groupby(['hashtag']).agg({'target':['sum','count']}).reset_index()\n",
    "hashtagGroup.columns = ['hashtag','cantidad de veraces','total']"
   ]
  },
  {
   "cell_type": "code",
   "execution_count": 41,
   "metadata": {
    "collapsed": true
   },
   "outputs": [],
   "source": [
    "hashtagGroup['porcentaje de tweets veraces']=\\\n",
    "                    hashtagGroup['cantidad de veraces']/hashtagGroup['total']*100"
   ]
  },
  {
   "cell_type": "code",
   "execution_count": 43,
   "metadata": {
    "collapsed": true
   },
   "outputs": [],
   "source": [
    "#Los tweets que tienen mas de 5 hashtag son muy pocos y no sirven para establecer un patron, a esos no los tengo\n",
    "#en cuenta para este analisis\n",
    "hashtagGroup = hashtagGroup[hashtagGroup[\"total\"]>26]"
   ]
  },
  {
   "cell_type": "code",
   "execution_count": 49,
   "metadata": {
    "collapsed": false
   },
   "outputs": [
    {
     "data": {
      "image/png": "[encoded data removed]",
      "text/plain": [
       "<Figure size 792x396 with 1 Axes>"
      ]
     },
     "metadata": {
      "needs_background": "light"
     },
     "output_type": "display_data"
    }
   ],
   "source": [
    "hashtagGroup.plot(kind='bar', x='hashtag', y='porcentaje de tweets veraces',\\\n",
    "                 width=0.7, figsize=(11,5.5), color='blue',\\\n",
    "                 edgecolor=\"skyblue\", linewidth=4)\n",
    "g=plt.gca()\n",
    "g.set_title(\"Relación entre la cantidad de hashtag y su veracidad\",\\\n",
    "            fontsize=20);\n",
    "g.set_xlabel(\"Cantidad de signos de exclamación\", fontsize=18);\n",
    "g.set_ylabel(\"Porcentaje de tweets veraces\", fontsize=18);"
   ]
  },
  {
   "cell_type": "markdown",
   "metadata": {},
   "source": [
    "No parece haber un patrón claro sobre los tweets y su cantidad de hashtag."
   ]
  },
  {
   "cell_type": "code",
   "execution_count": null,
   "metadata": {
    "collapsed": true
   },
   "outputs": [],
   "source": []
  }
 ],
 "metadata": {
  "kernelspec": {
   "display_name": "Python 3",
   "language": "python",
   "name": "python3"
  },
  "language_info": {
   "codemirror_mode": {
    "name": "ipython",
    "version": 3
   },
   "file_extension": ".py",
   "mimetype": "text/x-python",
   "name": "python",
   "nbconvert_exporter": "python",
   "pygments_lexer": "ipython3",
   "version": "3.7.5"
  }
 },
 "nbformat": 4,
 "nbformat_minor": 1
}
